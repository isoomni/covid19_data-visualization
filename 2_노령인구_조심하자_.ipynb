{
  "nbformat": 4,
  "nbformat_minor": 0,
  "metadata": {
    "colab": {
      "name": "2. 노령인구 조심하자....ipynb",
      "provenance": [],
      "collapsed_sections": [
        "SWuxF7eW0CW0"
      ]
    },
    "kernelspec": {
      "name": "python3",
      "display_name": "Python 3"
    }
  },
  "cells": [
    {
      "cell_type": "code",
      "metadata": {
        "id": "PolDs2sSxKSK",
        "colab_type": "code",
        "colab": {}
      },
      "source": [
        "from IPython.display import HTML\n",
        "import pandas as pd\n",
        "import numpy as np\n",
        "import seaborn as sns\n",
        "import matplotlib.pyplot as plt\n",
        "import matplotlib.dates as mdates\n",
        "import matplotlib.animation as animation\n",
        "\n",
        "# import plotly.express as px\n",
        "# import plotly.io as pio\n",
        "# pio.renderers.default = \n",
        "\n",
        "from sklearn.preprocessing import LabelEncoder, OneHotEncoder, StandardScaler\n",
        "from sklearn.cluster import KMeans\n",
        "from sklearn.decomposition import PCA\n",
        "\n",
        "pd.set_option('display.float_format', lambda x : '%.2f' % x)\n",
        "import warnings\n",
        "warnings.filterwarnings('ignore')"
      ],
      "execution_count": null,
      "outputs": []
    },
    {
      "cell_type": "code",
      "metadata": {
        "id": "NNaWN_nDqEii",
        "colab_type": "code",
        "colab": {}
      },
      "source": [
        "# 데이터 로드\n",
        "df1 = pd.read_csv('/content/PatientInfo.csv')\n",
        "df2 = pd.read_csv('/content/Region.csv')"
      ],
      "execution_count": null,
      "outputs": []
    },
    {
      "cell_type": "code",
      "metadata": {
        "id": "oFe8fvjVqMdJ",
        "colab_type": "code",
        "colab": {
          "base_uri": "https://localhost:8080/",
          "height": 52
        },
        "outputId": "ebba18d2-b504-4b8e-d973-0f63fd6f574c"
      },
      "source": [
        "df1.age.unique()"
      ],
      "execution_count": null,
      "outputs": [
        {
          "output_type": "execute_result",
          "data": {
            "text/plain": [
              "array(['50s', '30s', '20s', '60s', '80s', '70s', '40s', '10s', '90s',\n",
              "       '0s', nan, '30', '100s'], dtype=object)"
            ]
          },
          "metadata": {
            "tags": []
          },
          "execution_count": 85
        }
      ]
    },
    {
      "cell_type": "markdown",
      "metadata": {
        "id": "SWuxF7eW0CW0",
        "colab_type": "text"
      },
      "source": [
        "### 연령대 별 확진률"
      ]
    },
    {
      "cell_type": "code",
      "metadata": {
        "id": "laH03j4zqaN1",
        "colab_type": "code",
        "colab": {
          "base_uri": "https://localhost:8080/",
          "height": 274
        },
        "outputId": "b1ef947a-db1e-43d3-803c-5632fff0761c"
      },
      "source": [
        "# 명목형 변수인 Age를 시각화 해본다.\n",
        "df1.age = df1.age.str.replace('s','',regex=True)                       # 's' 제거.\n",
        "age_counts = df1.age.value_counts()                                   # 도수표.\n",
        "age_counts = age_counts.sort_values(ascending=False)\n",
        "age_counts.plot.bar(color='green', alpha=0.5)\n",
        "plt.show()"
      ],
      "execution_count": null,
      "outputs": [
        {
          "output_type": "display_data",
          "data": {
            "image/png": "[encoded data removed]",
            "text/plain": [
              "<Figure size 432x288 with 1 Axes>"
            ]
          },
          "metadata": {
            "tags": [],
            "needs_background": "light"
          }
        }
      ]
    },
    {
      "cell_type": "markdown",
      "metadata": {
        "id": "Rq1UAeGZzvbt",
        "colab_type": "text"
      },
      "source": [
        "### 연령대 별 사망률 "
      ]
    },
    {
      "cell_type": "code",
      "metadata": {
        "id": "sRprqHh2LMyx",
        "colab_type": "code",
        "colab": {
          "base_uri": "https://localhost:8080/",
          "height": 289
        },
        "outputId": "b27bf6e5-d0b3-4976-e909-e00dc46496fc"
      },
      "source": [
        "# Age별 사망비율.\n",
        "ct = pd.crosstab(df1.age, df1.state=='deceased')\n",
        "ct.columns = ['alive','deceased']\n",
        "ct['mortality'] = ct.deceased/(ct.alive + ct.deceased)\n",
        "ct.sort_values(by=['age'], ascending=True)[['mortality']].plot.bar(color='red', alpha=0.5)   # mortality로 소팅 및 시각화.\n",
        "plt.show()"
      ],
      "execution_count": null,
      "outputs": [
        {
          "output_type": "display_data",
          "data": {
            "image/png": "[encoded data removed]",
            "text/plain": [
              "<Figure size 432x288 with 1 Axes>"
            ]
          },
          "metadata": {
            "tags": [],
            "needs_background": "light"
          }
        }
      ]
    },
    {
      "cell_type": "markdown",
      "metadata": {
        "id": "86tdS1mS0IAc",
        "colab_type": "text"
      },
      "source": [
        "### 회복기간 = 확진날짜 - 퇴원날짜"
      ]
    },
    {
      "cell_type": "markdown",
      "metadata": {
        "id": "9YckTVIbnH6A",
        "colab_type": "text"
      },
      "source": [
        "나이순으로 정렬하고 결측치를 제거한다.\n",
        "\n",
        "released date의 결측치에는 사망자 등을 포함되었을 것으로 예상"
      ]
    },
    {
      "cell_type": "code",
      "metadata": {
        "id": "_2b1HPt-qbRl",
        "colab_type": "code",
        "colab": {
          "base_uri": "https://localhost:8080/",
          "height": 399
        },
        "outputId": "f3be4f82-f482-4835-ef50-5438bb9b3cf3"
      },
      "source": [
        "patient = df1[['age','confirmed_date','released_date']]\n",
        "patient = patient.sort_values(by=[\"age\"], ascending=[True] )\n",
        "patient"
      ],
      "execution_count": null,
      "outputs": [
        {
          "output_type": "execute_result",
          "data": {
            "text/html": [
              "<div>\n",
              "<style scoped>\n",
              "    .dataframe tbody tr th:only-of-type {\n",
              "        vertical-align: middle;\n",
              "    }\n",
              "\n",
              "    .dataframe tbody tr th {\n",
              "        vertical-align: top;\n",
              "    }\n",
              "\n",
              "    .dataframe thead th {\n",
              "        text-align: right;\n",
              "    }\n",
              "</style>\n",
              "<table border=\"1\" class=\"dataframe\">\n",
              "  <thead>\n",
              "    <tr style=\"text-align: right;\">\n",
              "      <th></th>\n",
              "      <th>age</th>\n",
              "      <th>confirmed_date</th>\n",
              "      <th>released_date</th>\n",
              "    </tr>\n",
              "  </thead>\n",
              "  <tbody>\n",
              "    <tr>\n",
              "      <th>2501</th>\n",
              "      <td>0</td>\n",
              "      <td>2020-03-01</td>\n",
              "      <td>2020-03-18</td>\n",
              "    </tr>\n",
              "    <tr>\n",
              "      <th>1870</th>\n",
              "      <td>0</td>\n",
              "      <td>2020-03-25</td>\n",
              "      <td>NaN</td>\n",
              "    </tr>\n",
              "    <tr>\n",
              "      <th>523</th>\n",
              "      <td>0</td>\n",
              "      <td>2020-04-03</td>\n",
              "      <td>NaN</td>\n",
              "    </tr>\n",
              "    <tr>\n",
              "      <th>120</th>\n",
              "      <td>0</td>\n",
              "      <td>2020-03-08</td>\n",
              "      <td>NaN</td>\n",
              "    </tr>\n",
              "    <tr>\n",
              "      <th>3673</th>\n",
              "      <td>0</td>\n",
              "      <td>2020-04-17</td>\n",
              "      <td>NaN</td>\n",
              "    </tr>\n",
              "    <tr>\n",
              "      <th>...</th>\n",
              "      <td>...</td>\n",
              "      <td>...</td>\n",
              "      <td>...</td>\n",
              "    </tr>\n",
              "    <tr>\n",
              "      <th>3591</th>\n",
              "      <td>NaN</td>\n",
              "      <td>2020-02-29</td>\n",
              "      <td>NaN</td>\n",
              "    </tr>\n",
              "    <tr>\n",
              "      <th>3592</th>\n",
              "      <td>NaN</td>\n",
              "      <td>2020-02-29</td>\n",
              "      <td>NaN</td>\n",
              "    </tr>\n",
              "    <tr>\n",
              "      <th>3898</th>\n",
              "      <td>NaN</td>\n",
              "      <td>2020-02-26</td>\n",
              "      <td>NaN</td>\n",
              "    </tr>\n",
              "    <tr>\n",
              "      <th>3899</th>\n",
              "      <td>NaN</td>\n",
              "      <td>2020-02-26</td>\n",
              "      <td>NaN</td>\n",
              "    </tr>\n",
              "    <tr>\n",
              "      <th>3900</th>\n",
              "      <td>NaN</td>\n",
              "      <td>2020-02-26</td>\n",
              "      <td>NaN</td>\n",
              "    </tr>\n",
              "  </tbody>\n",
              "</table>\n",
              "<p>4004 rows × 3 columns</p>\n",
              "</div>"
            ],
            "text/plain": [
              "      age confirmed_date released_date\n",
              "2501    0     2020-03-01    2020-03-18\n",
              "1870    0     2020-03-25           NaN\n",
              "523     0     2020-04-03           NaN\n",
              "120     0     2020-03-08           NaN\n",
              "3673    0     2020-04-17           NaN\n",
              "...   ...            ...           ...\n",
              "3591  NaN     2020-02-29           NaN\n",
              "3592  NaN     2020-02-29           NaN\n",
              "3898  NaN     2020-02-26           NaN\n",
              "3899  NaN     2020-02-26           NaN\n",
              "3900  NaN     2020-02-26           NaN\n",
              "\n",
              "[4004 rows x 3 columns]"
            ]
          },
          "metadata": {
            "tags": []
          },
          "execution_count": 88
        }
      ]
    },
    {
      "cell_type": "code",
      "metadata": {
        "id": "dT4LWWcc1crV",
        "colab_type": "code",
        "colab": {}
      },
      "source": [
        "patient = patient.dropna()\n",
        "patient = patient.reset_index(drop =True)"
      ],
      "execution_count": null,
      "outputs": []
    },
    {
      "cell_type": "markdown",
      "metadata": {
        "id": "yO6u6fu3nffM",
        "colab_type": "text"
      },
      "source": [
        "confirmed_date 와 released_date 를 통해 회복 기간을 계산하기 위하여 '-'를 제거해주는 함수를 설정하고 각 열에 적용해 준다,"
      ]
    },
    {
      "cell_type": "code",
      "metadata": {
        "id": "mJRxBum4z0VM",
        "colab_type": "code",
        "colab": {}
      },
      "source": [
        "def changestr(date):\n",
        "    d = date.split('-')\n",
        "    return ''.join(d)"
      ],
      "execution_count": null,
      "outputs": []
    },
    {
      "cell_type": "code",
      "metadata": {
        "id": "dVulBMUz041s",
        "colab_type": "code",
        "colab": {}
      },
      "source": [
        "patient['str_confirmed_date'] = patient['confirmed_date'].apply(changestr)\n",
        "patient['str_released_date'] = patient['released_date'].apply(changestr)"
      ],
      "execution_count": null,
      "outputs": []
    },
    {
      "cell_type": "markdown",
      "metadata": {
        "id": "3---mkX_nz9a",
        "colab_type": "text"
      },
      "source": [
        "datetime 모듈을 불러오고 released_date에서 confirmed_date를 빼준다. 회복 기간(recovery periods)를 반환한다."
      ]
    },
    {
      "cell_type": "code",
      "metadata": {
        "id": "wBYt2RI-2WxV",
        "colab_type": "code",
        "colab": {}
      },
      "source": [
        "from datetime import datetime\n",
        "\n",
        "def interval_between_date(str_confirmed_date, str_released_date):\n",
        "  \n",
        "  recovery_periods = (datetime.strptime(str_released_date, '%Y%m%d').date() - datetime.strptime(str_confirmed_date, '%Y%m%d').date()).days\n",
        "  return recovery_periods"
      ],
      "execution_count": null,
      "outputs": []
    },
    {
      "cell_type": "code",
      "metadata": {
        "id": "RS49RY0celnG",
        "colab_type": "code",
        "colab": {}
      },
      "source": [
        "patient = patient.dropna()"
      ],
      "execution_count": null,
      "outputs": []
    },
    {
      "cell_type": "code",
      "metadata": {
        "id": "IWbcKmaC_Eob",
        "colab_type": "code",
        "colab": {}
      },
      "source": [
        "# str_confirmed_date = pd.DataFrame(patient.str_confirmed_date)\n",
        "# str_confirmed_date"
      ],
      "execution_count": null,
      "outputs": []
    },
    {
      "cell_type": "code",
      "metadata": {
        "id": "-RAx-AOi_136",
        "colab_type": "code",
        "colab": {}
      },
      "source": [
        "# str_released_date = pd.DataFrame(patient.str_released_date)\n",
        "# str_released_date"
      ],
      "execution_count": null,
      "outputs": []
    },
    {
      "cell_type": "code",
      "metadata": {
        "id": "AL7iFXft9Nq1",
        "colab_type": "code",
        "colab": {}
      },
      "source": [
        "a = []\n",
        "for c, r in zip(patient.str_confirmed_date, patient.str_released_date):\n",
        "    a.append(interval_between_date(c, r))\n",
        "a = pd.DataFrame(a)\n",
        "a.columns = ['recovery_periods']"
      ],
      "execution_count": null,
      "outputs": []
    },
    {
      "cell_type": "code",
      "metadata": {
        "id": "HKgA0I8Rdz0n",
        "colab_type": "code",
        "colab": {}
      },
      "source": [
        "patient = patient.dropna()\n",
        "patient = patient.drop(['str_confirmed_date', 'str_released_date'], axis=1)"
      ],
      "execution_count": null,
      "outputs": []
    },
    {
      "cell_type": "markdown",
      "metadata": {
        "id": "nTYP6-w9oRp8",
        "colab_type": "text"
      },
      "source": [
        "recovery_periods를 표에 합쳐준다."
      ]
    },
    {
      "cell_type": "code",
      "metadata": {
        "id": "cfy59DR9KKcZ",
        "colab_type": "code",
        "colab": {
          "base_uri": "https://localhost:8080/",
          "height": 399
        },
        "outputId": "e26a4ca7-190b-4bc0-80c7-e2fd97bcedf8"
      },
      "source": [
        "patient['recovery_periods'] = a['recovery_periods']\n",
        "patient"
      ],
      "execution_count": null,
      "outputs": [
        {
          "output_type": "execute_result",
          "data": {
            "text/html": [
              "<div>\n",
              "<style scoped>\n",
              "    .dataframe tbody tr th:only-of-type {\n",
              "        vertical-align: middle;\n",
              "    }\n",
              "\n",
              "    .dataframe tbody tr th {\n",
              "        vertical-align: top;\n",
              "    }\n",
              "\n",
              "    .dataframe thead th {\n",
              "        text-align: right;\n",
              "    }\n",
              "</style>\n",
              "<table border=\"1\" class=\"dataframe\">\n",
              "  <thead>\n",
              "    <tr style=\"text-align: right;\">\n",
              "      <th></th>\n",
              "      <th>age</th>\n",
              "      <th>confirmed_date</th>\n",
              "      <th>released_date</th>\n",
              "      <th>recovery_periods</th>\n",
              "    </tr>\n",
              "  </thead>\n",
              "  <tbody>\n",
              "    <tr>\n",
              "      <th>0</th>\n",
              "      <td>0</td>\n",
              "      <td>2020-03-01</td>\n",
              "      <td>2020-03-18</td>\n",
              "      <td>17</td>\n",
              "    </tr>\n",
              "    <tr>\n",
              "      <th>1</th>\n",
              "      <td>0</td>\n",
              "      <td>2020-03-10</td>\n",
              "      <td>2020-03-26</td>\n",
              "      <td>16</td>\n",
              "    </tr>\n",
              "    <tr>\n",
              "      <th>2</th>\n",
              "      <td>0</td>\n",
              "      <td>2020-03-01</td>\n",
              "      <td>2020-03-18</td>\n",
              "      <td>17</td>\n",
              "    </tr>\n",
              "    <tr>\n",
              "      <th>3</th>\n",
              "      <td>0</td>\n",
              "      <td>2020-03-05</td>\n",
              "      <td>2020-03-19</td>\n",
              "      <td>14</td>\n",
              "    </tr>\n",
              "    <tr>\n",
              "      <th>4</th>\n",
              "      <td>0</td>\n",
              "      <td>2020-03-02</td>\n",
              "      <td>2020-03-16</td>\n",
              "      <td>14</td>\n",
              "    </tr>\n",
              "    <tr>\n",
              "      <th>...</th>\n",
              "      <td>...</td>\n",
              "      <td>...</td>\n",
              "      <td>...</td>\n",
              "      <td>...</td>\n",
              "    </tr>\n",
              "    <tr>\n",
              "      <th>1494</th>\n",
              "      <td>90</td>\n",
              "      <td>2020-04-09</td>\n",
              "      <td>2020-05-12</td>\n",
              "      <td>33</td>\n",
              "    </tr>\n",
              "    <tr>\n",
              "      <th>1495</th>\n",
              "      <td>90</td>\n",
              "      <td>2020-03-30</td>\n",
              "      <td>2020-04-18</td>\n",
              "      <td>19</td>\n",
              "    </tr>\n",
              "    <tr>\n",
              "      <th>1496</th>\n",
              "      <td>90</td>\n",
              "      <td>2020-03-07</td>\n",
              "      <td>2020-03-31</td>\n",
              "      <td>24</td>\n",
              "    </tr>\n",
              "    <tr>\n",
              "      <th>1497</th>\n",
              "      <td>90</td>\n",
              "      <td>2020-03-07</td>\n",
              "      <td>2020-03-21</td>\n",
              "      <td>14</td>\n",
              "    </tr>\n",
              "    <tr>\n",
              "      <th>1498</th>\n",
              "      <td>90</td>\n",
              "      <td>2020-03-06</td>\n",
              "      <td>2020-03-30</td>\n",
              "      <td>24</td>\n",
              "    </tr>\n",
              "  </tbody>\n",
              "</table>\n",
              "<p>1499 rows × 4 columns</p>\n",
              "</div>"
            ],
            "text/plain": [
              "     age confirmed_date released_date  recovery_periods\n",
              "0      0     2020-03-01    2020-03-18                17\n",
              "1      0     2020-03-10    2020-03-26                16\n",
              "2      0     2020-03-01    2020-03-18                17\n",
              "3      0     2020-03-05    2020-03-19                14\n",
              "4      0     2020-03-02    2020-03-16                14\n",
              "...   ..            ...           ...               ...\n",
              "1494  90     2020-04-09    2020-05-12                33\n",
              "1495  90     2020-03-30    2020-04-18                19\n",
              "1496  90     2020-03-07    2020-03-31                24\n",
              "1497  90     2020-03-07    2020-03-21                14\n",
              "1498  90     2020-03-06    2020-03-30                24\n",
              "\n",
              "[1499 rows x 4 columns]"
            ]
          },
          "metadata": {
            "tags": []
          },
          "execution_count": 98
        }
      ]
    },
    {
      "cell_type": "markdown",
      "metadata": {
        "id": "PGaKTFi3oWn6",
        "colab_type": "text"
      },
      "source": [
        "나이를 기준으로 그룹화하고 각 나이대의 회복기간의 평균을 계산한다.\n",
        "이를 시각화한다."
      ]
    },
    {
      "cell_type": "code",
      "metadata": {
        "id": "IJdl7MxherzG",
        "colab_type": "code",
        "colab": {
          "base_uri": "https://localhost:8080/",
          "height": 340
        },
        "outputId": "6e8fa021-deae-496a-8e33-59b311921424"
      },
      "source": [
        "recovery = patient.groupby(['age'])['recovery_periods'].mean()\n",
        "recovery = pd.DataFrame(recovery.apply(pd.to_numeric))\n",
        "recovery = recovery.sort_values(by = 'age', ascending=True)\n",
        "recovery = recovery.drop(['100'])\n",
        "recovery.reset_index(inplace = True)\n",
        "recovery = recovery[['age', 'recovery_periods']]\n",
        "# recovery = recovery.drop(['age'], axis=1, inplace=True )\n",
        "ages = ['0-9', '10-19', '20-29', '30-39', '40-49', '50-59', '60-69', '70-79', '80-89', '90-99']\n",
        "recovery['ages'] = ages\n",
        "\n",
        "recovery"
      ],
      "execution_count": null,
      "outputs": [
        {
          "output_type": "execute_result",
          "data": {
            "text/html": [
              "<div>\n",
              "<style scoped>\n",
              "    .dataframe tbody tr th:only-of-type {\n",
              "        vertical-align: middle;\n",
              "    }\n",
              "\n",
              "    .dataframe tbody tr th {\n",
              "        vertical-align: top;\n",
              "    }\n",
              "\n",
              "    .dataframe thead th {\n",
              "        text-align: right;\n",
              "    }\n",
              "</style>\n",
              "<table border=\"1\" class=\"dataframe\">\n",
              "  <thead>\n",
              "    <tr style=\"text-align: right;\">\n",
              "      <th></th>\n",
              "      <th>age</th>\n",
              "      <th>recovery_periods</th>\n",
              "      <th>ages</th>\n",
              "    </tr>\n",
              "  </thead>\n",
              "  <tbody>\n",
              "    <tr>\n",
              "      <th>0</th>\n",
              "      <td>0</td>\n",
              "      <td>21.88</td>\n",
              "      <td>0-9</td>\n",
              "    </tr>\n",
              "    <tr>\n",
              "      <th>1</th>\n",
              "      <td>10</td>\n",
              "      <td>20.55</td>\n",
              "      <td>10-19</td>\n",
              "    </tr>\n",
              "    <tr>\n",
              "      <th>2</th>\n",
              "      <td>20</td>\n",
              "      <td>22.85</td>\n",
              "      <td>20-29</td>\n",
              "    </tr>\n",
              "    <tr>\n",
              "      <th>3</th>\n",
              "      <td>30</td>\n",
              "      <td>22.66</td>\n",
              "      <td>30-39</td>\n",
              "    </tr>\n",
              "    <tr>\n",
              "      <th>4</th>\n",
              "      <td>40</td>\n",
              "      <td>23.42</td>\n",
              "      <td>40-49</td>\n",
              "    </tr>\n",
              "    <tr>\n",
              "      <th>5</th>\n",
              "      <td>50</td>\n",
              "      <td>23.70</td>\n",
              "      <td>50-59</td>\n",
              "    </tr>\n",
              "    <tr>\n",
              "      <th>6</th>\n",
              "      <td>60</td>\n",
              "      <td>26.41</td>\n",
              "      <td>60-69</td>\n",
              "    </tr>\n",
              "    <tr>\n",
              "      <th>7</th>\n",
              "      <td>70</td>\n",
              "      <td>31.34</td>\n",
              "      <td>70-79</td>\n",
              "    </tr>\n",
              "    <tr>\n",
              "      <th>8</th>\n",
              "      <td>80</td>\n",
              "      <td>34.73</td>\n",
              "      <td>80-89</td>\n",
              "    </tr>\n",
              "    <tr>\n",
              "      <th>9</th>\n",
              "      <td>90</td>\n",
              "      <td>28.79</td>\n",
              "      <td>90-99</td>\n",
              "    </tr>\n",
              "  </tbody>\n",
              "</table>\n",
              "</div>"
            ],
            "text/plain": [
              "  age  recovery_periods   ages\n",
              "0   0             21.88    0-9\n",
              "1  10             20.55  10-19\n",
              "2  20             22.85  20-29\n",
              "3  30             22.66  30-39\n",
              "4  40             23.42  40-49\n",
              "5  50             23.70  50-59\n",
              "6  60             26.41  60-69\n",
              "7  70             31.34  70-79\n",
              "8  80             34.73  80-89\n",
              "9  90             28.79  90-99"
            ]
          },
          "metadata": {
            "tags": []
          },
          "execution_count": 99
        }
      ]
    },
    {
      "cell_type": "code",
      "metadata": {
        "id": "XKwEHKyFFXVO",
        "colab_type": "code",
        "colab": {
          "base_uri": "https://localhost:8080/",
          "height": 295
        },
        "outputId": "a34c3790-16ed-41c5-d8cc-198347a0a545"
      },
      "source": [
        "recovery.plot(x = 'ages', y = 'recovery_periods',color='purple', marker='o', linestyle='solid', alpha=0.5)\n",
        "plt.title('recovery_periods by age group')\n",
        "plt.ylim(17.5, 35)  # y축의 최솟값과 최댓값 지정\n",
        "plt.ylabel('recovery_periods')\n",
        "plt.legend()\n",
        "plt.show()"
      ],
      "execution_count": null,
      "outputs": [
        {
          "output_type": "display_data",
          "data": {
            "image/png": "[encoded data removed]",
            "text/plain": [
              "<Figure size 432x288 with 1 Axes>"
            ]
          },
          "metadata": {
            "tags": [],
            "needs_background": "light"
          }
        }
      ]
    },
    {
      "cell_type": "code",
      "metadata": {
        "id": "Kb_2ccTiuySc",
        "colab_type": "code",
        "colab": {
          "base_uri": "https://localhost:8080/",
          "height": 314
        },
        "outputId": "112ed8a3-7b7b-4330-acf7-00c5b58fb7ea"
      },
      "source": [
        "recovery.plot.bar(x = 'ages', y = 'recovery_periods', color='green', alpha=0.4)\n",
        "plt.title('recovery_periods by age group')\n",
        "plt.ylim(17.5, 35)  # y축의 최솟값과 최댓값 지정\n",
        "plt.ylabel('recovery_periods')\n",
        "plt.legend()\n",
        "plt.show()"
      ],
      "execution_count": null,
      "outputs": [
        {
          "output_type": "display_data",
          "data": {
            "image/png": "[encoded data removed]",
            "text/plain": [
              "<Figure size 432x288 with 1 Axes>"
            ]
          },
          "metadata": {
            "tags": [],
            "needs_background": "light"
          }
        }
      ]
    },
    {
      "cell_type": "markdown",
      "metadata": {
        "id": "UfNKnlBkmwky",
        "colab_type": "text"
      },
      "source": [
        "노령층으로 갈수록 회복기간이 길어진다는 것을 확인할 수 있었다.\n",
        "\n",
        "90대의 회복기간이 70, 80대 보다 짧은 이유:\n",
        "90대는 회복해서 퇴원한 경우보다 사망에 이르른 경우가 많았다(치명률). 그런데 사망자 혹은 무증상 격리자의 경우 결측치 제거 시에 데이터가 삭제되었기 때문에 기간이 오래 걸렸더라도 회복한 경우가 있었던 70, 80대 보다 해당 수치가 낮게 나온 것."
      ]
    },
    {
      "cell_type": "code",
      "metadata": {
        "id": "slFDgWMIMT3q",
        "colab_type": "code",
        "colab": {
          "base_uri": "https://localhost:8080/",
          "height": 135
        },
        "outputId": "ee07e294-472c-4e25-d829-3e8acdd06816"
      },
      "source": [
        "age_state = df1[['age', 'state']]\n",
        "age_90_state = age_state[age_state['age'] =='90']\n",
        "age_90_state.reset_index(drop='index',inplace = True)\n",
        "age_90_state = pd.DataFrame(age_90_state.groupby(['state'])['age'].count())\n",
        "age_90_state = age_90_state.rename(columns = {'age' : '90s'})\n",
        "age_90_state.reset_index(inplace = True)\n",
        "age_90_state = age_90_state[['state', '90s']]\n",
        "age_90_state"
      ],
      "execution_count": null,
      "outputs": [
        {
          "output_type": "execute_result",
          "data": {
            "text/html": [
              "<div>\n",
              "<style scoped>\n",
              "    .dataframe tbody tr th:only-of-type {\n",
              "        vertical-align: middle;\n",
              "    }\n",
              "\n",
              "    .dataframe tbody tr th {\n",
              "        vertical-align: top;\n",
              "    }\n",
              "\n",
              "    .dataframe thead th {\n",
              "        text-align: right;\n",
              "    }\n",
              "</style>\n",
              "<table border=\"1\" class=\"dataframe\">\n",
              "  <thead>\n",
              "    <tr style=\"text-align: right;\">\n",
              "      <th></th>\n",
              "      <th>state</th>\n",
              "      <th>90s</th>\n",
              "    </tr>\n",
              "  </thead>\n",
              "  <tbody>\n",
              "    <tr>\n",
              "      <th>0</th>\n",
              "      <td>deceased</td>\n",
              "      <td>7</td>\n",
              "    </tr>\n",
              "    <tr>\n",
              "      <th>1</th>\n",
              "      <td>isolated</td>\n",
              "      <td>25</td>\n",
              "    </tr>\n",
              "    <tr>\n",
              "      <th>2</th>\n",
              "      <td>released</td>\n",
              "      <td>15</td>\n",
              "    </tr>\n",
              "  </tbody>\n",
              "</table>\n",
              "</div>"
            ],
            "text/plain": [
              "      state  90s\n",
              "0  deceased    7\n",
              "1  isolated   25\n",
              "2  released   15"
            ]
          },
          "metadata": {
            "tags": []
          },
          "execution_count": 102
        }
      ]
    },
    {
      "cell_type": "code",
      "metadata": {
        "id": "c4lCtoUfUuMH",
        "colab_type": "code",
        "colab": {
          "base_uri": "https://localhost:8080/",
          "height": 135
        },
        "outputId": "33292814-4752-4175-ccf4-1a6f29a520a9"
      },
      "source": [
        "age_state = df1[['age', 'state']]\n",
        "age_80_state = age_state[age_state['age'] =='80']\n",
        "age_80_state.reset_index(drop='index',inplace = True)\n",
        "age_80_state = pd.DataFrame(age_80_state.groupby(['state'])['age'].count())\n",
        "age_80_state = age_80_state.rename(columns = {'age' : '80s'})\n",
        "age_80_state.reset_index(inplace = True)\n",
        "age_80_state = age_80_state[['state', '80s']]\n",
        "age_80_state"
      ],
      "execution_count": null,
      "outputs": [
        {
          "output_type": "execute_result",
          "data": {
            "text/html": [
              "<div>\n",
              "<style scoped>\n",
              "    .dataframe tbody tr th:only-of-type {\n",
              "        vertical-align: middle;\n",
              "    }\n",
              "\n",
              "    .dataframe tbody tr th {\n",
              "        vertical-align: top;\n",
              "    }\n",
              "\n",
              "    .dataframe thead th {\n",
              "        text-align: right;\n",
              "    }\n",
              "</style>\n",
              "<table border=\"1\" class=\"dataframe\">\n",
              "  <thead>\n",
              "    <tr style=\"text-align: right;\">\n",
              "      <th></th>\n",
              "      <th>state</th>\n",
              "      <th>80s</th>\n",
              "    </tr>\n",
              "  </thead>\n",
              "  <tbody>\n",
              "    <tr>\n",
              "      <th>0</th>\n",
              "      <td>deceased</td>\n",
              "      <td>25</td>\n",
              "    </tr>\n",
              "    <tr>\n",
              "      <th>1</th>\n",
              "      <td>isolated</td>\n",
              "      <td>69</td>\n",
              "    </tr>\n",
              "    <tr>\n",
              "      <th>2</th>\n",
              "      <td>released</td>\n",
              "      <td>68</td>\n",
              "    </tr>\n",
              "  </tbody>\n",
              "</table>\n",
              "</div>"
            ],
            "text/plain": [
              "      state  80s\n",
              "0  deceased   25\n",
              "1  isolated   69\n",
              "2  released   68"
            ]
          },
          "metadata": {
            "tags": []
          },
          "execution_count": 103
        }
      ]
    },
    {
      "cell_type": "code",
      "metadata": {
        "id": "p3pPCFqRVJ5G",
        "colab_type": "code",
        "colab": {
          "base_uri": "https://localhost:8080/",
          "height": 135
        },
        "outputId": "7bd3ceb4-96ea-4ef8-f415-6dce81d8e41a"
      },
      "source": [
        "state_age_joined = age_80_state.merge(age_90_state, left_on = 'state', right_on = 'state' , how='inner')\n",
        "state_age_joined"
      ],
      "execution_count": null,
      "outputs": [
        {
          "output_type": "execute_result",
          "data": {
            "text/html": [
              "<div>\n",
              "<style scoped>\n",
              "    .dataframe tbody tr th:only-of-type {\n",
              "        vertical-align: middle;\n",
              "    }\n",
              "\n",
              "    .dataframe tbody tr th {\n",
              "        vertical-align: top;\n",
              "    }\n",
              "\n",
              "    .dataframe thead th {\n",
              "        text-align: right;\n",
              "    }\n",
              "</style>\n",
              "<table border=\"1\" class=\"dataframe\">\n",
              "  <thead>\n",
              "    <tr style=\"text-align: right;\">\n",
              "      <th></th>\n",
              "      <th>state</th>\n",
              "      <th>80s</th>\n",
              "      <th>90s</th>\n",
              "    </tr>\n",
              "  </thead>\n",
              "  <tbody>\n",
              "    <tr>\n",
              "      <th>0</th>\n",
              "      <td>deceased</td>\n",
              "      <td>25</td>\n",
              "      <td>7</td>\n",
              "    </tr>\n",
              "    <tr>\n",
              "      <th>1</th>\n",
              "      <td>isolated</td>\n",
              "      <td>69</td>\n",
              "      <td>25</td>\n",
              "    </tr>\n",
              "    <tr>\n",
              "      <th>2</th>\n",
              "      <td>released</td>\n",
              "      <td>68</td>\n",
              "      <td>15</td>\n",
              "    </tr>\n",
              "  </tbody>\n",
              "</table>\n",
              "</div>"
            ],
            "text/plain": [
              "      state  80s  90s\n",
              "0  deceased   25    7\n",
              "1  isolated   69   25\n",
              "2  released   68   15"
            ]
          },
          "metadata": {
            "tags": []
          },
          "execution_count": 104
        }
      ]
    },
    {
      "cell_type": "code",
      "metadata": {
        "id": "2ItpwbbRXm3h",
        "colab_type": "code",
        "colab": {
          "base_uri": "https://localhost:8080/",
          "height": 52
        },
        "outputId": "06de7a0c-5b9f-42ce-f909-e55cfaf136a6"
      },
      "source": [
        "morality_rate_80s = state_age_joined['80s'][0] / state_age_joined['80s'].sum() * 100\n",
        "morality_rate_90s = state_age_joined['90s'][0] / state_age_joined['90s'].sum() * 100\n",
        "print('morality_rate_80s:', morality_rate_80s, '%')\n",
        "print('morality_rate_90s:', morality_rate_90s, '%')"
      ],
      "execution_count": null,
      "outputs": [
        {
          "output_type": "stream",
          "text": [
            "morality_rate_80s: 15.432098765432098 %\n",
            "morality_rate_90s: 14.893617021276595 %\n"
          ],
          "name": "stdout"
        }
      ]
    },
    {
      "cell_type": "code",
      "metadata": {
        "id": "sz81c6YAYW3o",
        "colab_type": "code",
        "colab": {}
      },
      "source": [
        ""
      ],
      "execution_count": null,
      "outputs": []
    }
  ]
}