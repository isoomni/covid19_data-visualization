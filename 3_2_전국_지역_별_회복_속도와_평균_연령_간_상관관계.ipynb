{
  "nbformat": 4,
  "nbformat_minor": 0,
  "metadata": {
    "colab": {
      "name": "3-2.전국 지역 별 회복 속도와 평균 연령 간 상관관계.ipynb",
      "provenance": [],
      "collapsed_sections": []
    },
    "kernelspec": {
      "name": "python3",
      "display_name": "Python 3"
    },
    "accelerator": "GPU"
  },
  "cells": [
    {
      "cell_type": "markdown",
      "metadata": {
        "id": "fcSPH5xgIivS",
        "colab_type": "text"
      },
      "source": [
        "# 전국 연령군 별 회복 속도\n",
        "- 시각화 초점"
      ]
    },
    {
      "cell_type": "code",
      "metadata": {
        "id": "X6IYwkMkIiQK",
        "colab_type": "code",
        "colab": {}
      },
      "source": [
        "from IPython.display import HTML\n",
        "import pandas as pd\n",
        "import numpy as np\n",
        "import matplotlib\n",
        "%matplotlib inline\n",
        "import seaborn as sns\n",
        "sns.set_style(\"whitegrid\")\n",
        "import matplotlib.pyplot as plt\n",
        "import matplotlib.dates as mdates\n",
        "import matplotlib.animation as animation\n",
        "\n",
        "# import plotly.express as px\n",
        "# import plotly.io as pio\n",
        "# pio.renderers.default \n",
        "\n",
        "from sklearn.preprocessing import LabelEncoder, OneHotEncoder, StandardScaler\n",
        "from sklearn.cluster import KMeans\n",
        "from sklearn.decomposition import PCA\n",
        "\n",
        "pd.set_option('display.float_format', lambda x : '%.2f' % x)\n",
        "import warnings\n",
        "warnings.filterwarnings('ignore')"
      ],
      "execution_count": null,
      "outputs": []
    },
    {
      "cell_type": "code",
      "metadata": {
        "id": "hrQDjDigZeeN",
        "colab_type": "code",
        "colab": {}
      },
      "source": [
        "# 데이터 로드\n",
        "avgAge = pd.read_csv('/content/province_avgAge.csv', encoding='CP949')\n",
        "PatientInfo = pd.read_csv('/content/PatientInfo.csv')"
      ],
      "execution_count": null,
      "outputs": []
    },
    {
      "cell_type": "markdown",
      "metadata": {
        "id": "86tdS1mS0IAc",
        "colab_type": "text"
      },
      "source": [
        "### 회복기간 = 확진날짜 - 퇴원날짜"
      ]
    },
    {
      "cell_type": "markdown",
      "metadata": {
        "id": "9YckTVIbnH6A",
        "colab_type": "text"
      },
      "source": [
        "나이순으로 정렬하고 결측치를 제거한다.\n",
        "\n",
        "released date의 결측치에는 사망자 등을 포함되었을 것으로 예상"
      ]
    },
    {
      "cell_type": "code",
      "metadata": {
        "id": "_2b1HPt-qbRl",
        "colab_type": "code",
        "colab": {
          "base_uri": "https://localhost:8080/",
          "height": 419
        },
        "outputId": "deb9a241-144e-4fa3-a47b-01a7f7c998cb"
      },
      "source": [
        "patient = PatientInfo[['province','confirmed_date','released_date']]\n",
        "patient = patient.sort_values(by=[\"province\"], ascending=[True] )\n",
        "patient"
      ],
      "execution_count": null,
      "outputs": [
        {
          "output_type": "execute_result",
          "data": {
            "text/html": [
              "<div>\n",
              "<style scoped>\n",
              "    .dataframe tbody tr th:only-of-type {\n",
              "        vertical-align: middle;\n",
              "    }\n",
              "\n",
              "    .dataframe tbody tr th {\n",
              "        vertical-align: top;\n",
              "    }\n",
              "\n",
              "    .dataframe thead th {\n",
              "        text-align: right;\n",
              "    }\n",
              "</style>\n",
              "<table border=\"1\" class=\"dataframe\">\n",
              "  <thead>\n",
              "    <tr style=\"text-align: right;\">\n",
              "      <th></th>\n",
              "      <th>province</th>\n",
              "      <th>confirmed_date</th>\n",
              "      <th>released_date</th>\n",
              "    </tr>\n",
              "  </thead>\n",
              "  <tbody>\n",
              "    <tr>\n",
              "      <th>926</th>\n",
              "      <td>Busan</td>\n",
              "      <td>2020-02-27</td>\n",
              "      <td>NaN</td>\n",
              "    </tr>\n",
              "    <tr>\n",
              "      <th>875</th>\n",
              "      <td>Busan</td>\n",
              "      <td>2020-02-22</td>\n",
              "      <td>NaN</td>\n",
              "    </tr>\n",
              "    <tr>\n",
              "      <th>876</th>\n",
              "      <td>Busan</td>\n",
              "      <td>2020-02-22</td>\n",
              "      <td>NaN</td>\n",
              "    </tr>\n",
              "    <tr>\n",
              "      <th>877</th>\n",
              "      <td>Busan</td>\n",
              "      <td>2020-02-22</td>\n",
              "      <td>NaN</td>\n",
              "    </tr>\n",
              "    <tr>\n",
              "      <th>878</th>\n",
              "      <td>Busan</td>\n",
              "      <td>2020-02-22</td>\n",
              "      <td>NaN</td>\n",
              "    </tr>\n",
              "    <tr>\n",
              "      <th>...</th>\n",
              "      <td>...</td>\n",
              "      <td>...</td>\n",
              "      <td>...</td>\n",
              "    </tr>\n",
              "    <tr>\n",
              "      <th>1400</th>\n",
              "      <td>Ulsan</td>\n",
              "      <td>2020-04-11</td>\n",
              "      <td>2020-04-20</td>\n",
              "    </tr>\n",
              "    <tr>\n",
              "      <th>1401</th>\n",
              "      <td>Ulsan</td>\n",
              "      <td>2020-03-07</td>\n",
              "      <td>2020-04-03</td>\n",
              "    </tr>\n",
              "    <tr>\n",
              "      <th>1402</th>\n",
              "      <td>Ulsan</td>\n",
              "      <td>2020-03-10</td>\n",
              "      <td>2020-03-19</td>\n",
              "    </tr>\n",
              "    <tr>\n",
              "      <th>1404</th>\n",
              "      <td>Ulsan</td>\n",
              "      <td>2020-03-12</td>\n",
              "      <td>2020-03-31</td>\n",
              "    </tr>\n",
              "    <tr>\n",
              "      <th>1380</th>\n",
              "      <td>Ulsan</td>\n",
              "      <td>2020-02-25</td>\n",
              "      <td>2020-03-14</td>\n",
              "    </tr>\n",
              "  </tbody>\n",
              "</table>\n",
              "<p>4004 rows × 3 columns</p>\n",
              "</div>"
            ],
            "text/plain": [
              "     province confirmed_date released_date\n",
              "926     Busan     2020-02-27           NaN\n",
              "875     Busan     2020-02-22           NaN\n",
              "876     Busan     2020-02-22           NaN\n",
              "877     Busan     2020-02-22           NaN\n",
              "878     Busan     2020-02-22           NaN\n",
              "...       ...            ...           ...\n",
              "1400    Ulsan     2020-04-11    2020-04-20\n",
              "1401    Ulsan     2020-03-07    2020-04-03\n",
              "1402    Ulsan     2020-03-10    2020-03-19\n",
              "1404    Ulsan     2020-03-12    2020-03-31\n",
              "1380    Ulsan     2020-02-25    2020-03-14\n",
              "\n",
              "[4004 rows x 3 columns]"
            ]
          },
          "metadata": {
            "tags": []
          },
          "execution_count": 40
        }
      ]
    },
    {
      "cell_type": "code",
      "metadata": {
        "id": "dT4LWWcc1crV",
        "colab_type": "code",
        "colab": {
          "base_uri": "https://localhost:8080/",
          "height": 419
        },
        "outputId": "aa10cc3b-1a96-447b-c810-106cf9c545cc"
      },
      "source": [
        "patient = patient.dropna()\n",
        "patient = patient.drop(patient[patient.province =='etc'].index)\n",
        "patient = patient.reset_index(drop =True)\n",
        "patient"
      ],
      "execution_count": null,
      "outputs": [
        {
          "output_type": "execute_result",
          "data": {
            "text/html": [
              "<div>\n",
              "<style scoped>\n",
              "    .dataframe tbody tr th:only-of-type {\n",
              "        vertical-align: middle;\n",
              "    }\n",
              "\n",
              "    .dataframe tbody tr th {\n",
              "        vertical-align: top;\n",
              "    }\n",
              "\n",
              "    .dataframe thead th {\n",
              "        text-align: right;\n",
              "    }\n",
              "</style>\n",
              "<table border=\"1\" class=\"dataframe\">\n",
              "  <thead>\n",
              "    <tr style=\"text-align: right;\">\n",
              "      <th></th>\n",
              "      <th>province</th>\n",
              "      <th>confirmed_date</th>\n",
              "      <th>released_date</th>\n",
              "    </tr>\n",
              "  </thead>\n",
              "  <tbody>\n",
              "    <tr>\n",
              "      <th>0</th>\n",
              "      <td>Chungcheongbuk-do</td>\n",
              "      <td>2020-03-14</td>\n",
              "      <td>2020-04-02</td>\n",
              "    </tr>\n",
              "    <tr>\n",
              "      <th>1</th>\n",
              "      <td>Chungcheongbuk-do</td>\n",
              "      <td>2020-03-08</td>\n",
              "      <td>2020-03-21</td>\n",
              "    </tr>\n",
              "    <tr>\n",
              "      <th>2</th>\n",
              "      <td>Chungcheongbuk-do</td>\n",
              "      <td>2020-03-07</td>\n",
              "      <td>2020-03-26</td>\n",
              "    </tr>\n",
              "    <tr>\n",
              "      <th>3</th>\n",
              "      <td>Chungcheongbuk-do</td>\n",
              "      <td>2020-03-07</td>\n",
              "      <td>2020-03-26</td>\n",
              "    </tr>\n",
              "    <tr>\n",
              "      <th>4</th>\n",
              "      <td>Chungcheongbuk-do</td>\n",
              "      <td>2020-03-07</td>\n",
              "      <td>2020-03-30</td>\n",
              "    </tr>\n",
              "    <tr>\n",
              "      <th>...</th>\n",
              "      <td>...</td>\n",
              "      <td>...</td>\n",
              "      <td>...</td>\n",
              "    </tr>\n",
              "    <tr>\n",
              "      <th>1503</th>\n",
              "      <td>Ulsan</td>\n",
              "      <td>2020-04-11</td>\n",
              "      <td>2020-04-20</td>\n",
              "    </tr>\n",
              "    <tr>\n",
              "      <th>1504</th>\n",
              "      <td>Ulsan</td>\n",
              "      <td>2020-03-07</td>\n",
              "      <td>2020-04-03</td>\n",
              "    </tr>\n",
              "    <tr>\n",
              "      <th>1505</th>\n",
              "      <td>Ulsan</td>\n",
              "      <td>2020-03-10</td>\n",
              "      <td>2020-03-19</td>\n",
              "    </tr>\n",
              "    <tr>\n",
              "      <th>1506</th>\n",
              "      <td>Ulsan</td>\n",
              "      <td>2020-03-12</td>\n",
              "      <td>2020-03-31</td>\n",
              "    </tr>\n",
              "    <tr>\n",
              "      <th>1507</th>\n",
              "      <td>Ulsan</td>\n",
              "      <td>2020-02-25</td>\n",
              "      <td>2020-03-14</td>\n",
              "    </tr>\n",
              "  </tbody>\n",
              "</table>\n",
              "<p>1508 rows × 3 columns</p>\n",
              "</div>"
            ],
            "text/plain": [
              "               province confirmed_date released_date\n",
              "0     Chungcheongbuk-do     2020-03-14    2020-04-02\n",
              "1     Chungcheongbuk-do     2020-03-08    2020-03-21\n",
              "2     Chungcheongbuk-do     2020-03-07    2020-03-26\n",
              "3     Chungcheongbuk-do     2020-03-07    2020-03-26\n",
              "4     Chungcheongbuk-do     2020-03-07    2020-03-30\n",
              "...                 ...            ...           ...\n",
              "1503              Ulsan     2020-04-11    2020-04-20\n",
              "1504              Ulsan     2020-03-07    2020-04-03\n",
              "1505              Ulsan     2020-03-10    2020-03-19\n",
              "1506              Ulsan     2020-03-12    2020-03-31\n",
              "1507              Ulsan     2020-02-25    2020-03-14\n",
              "\n",
              "[1508 rows x 3 columns]"
            ]
          },
          "metadata": {
            "tags": []
          },
          "execution_count": 41
        }
      ]
    },
    {
      "cell_type": "markdown",
      "metadata": {
        "id": "yO6u6fu3nffM",
        "colab_type": "text"
      },
      "source": [
        "confirmed_date 와 released_date 를 통해 회복 기간을 계산하기 위하여 '-'를 제거해주는 함수를 설정하고 각 열에 적용해 준다,"
      ]
    },
    {
      "cell_type": "code",
      "metadata": {
        "id": "mJRxBum4z0VM",
        "colab_type": "code",
        "colab": {}
      },
      "source": [
        "def changestr(date):\n",
        "    d = date.split('-')\n",
        "    return ''.join(d)"
      ],
      "execution_count": null,
      "outputs": []
    },
    {
      "cell_type": "code",
      "metadata": {
        "id": "dVulBMUz041s",
        "colab_type": "code",
        "colab": {}
      },
      "source": [
        "patient['str_confirmed_date'] = patient['confirmed_date'].apply(changestr)\n",
        "patient['str_released_date'] = patient['released_date'].apply(changestr)"
      ],
      "execution_count": null,
      "outputs": []
    },
    {
      "cell_type": "markdown",
      "metadata": {
        "id": "3---mkX_nz9a",
        "colab_type": "text"
      },
      "source": [
        "datetime 모듈을 불러오고 released_date에서 confirmed_date를 빼준다. 회복 기간(recovery periods)를 반환한다."
      ]
    },
    {
      "cell_type": "code",
      "metadata": {
        "id": "wBYt2RI-2WxV",
        "colab_type": "code",
        "colab": {}
      },
      "source": [
        "from datetime import datetime\n",
        "\n",
        "def interval_between_date(str_confirmed_date, str_released_date):\n",
        "  \n",
        "  recovery_periods = (datetime.strptime(str_released_date, '%Y%m%d').date() - datetime.strptime(str_confirmed_date, '%Y%m%d').date()).days\n",
        "  return recovery_periods"
      ],
      "execution_count": null,
      "outputs": []
    },
    {
      "cell_type": "code",
      "metadata": {
        "id": "RS49RY0celnG",
        "colab_type": "code",
        "colab": {}
      },
      "source": [
        "patient = patient.dropna()"
      ],
      "execution_count": null,
      "outputs": []
    },
    {
      "cell_type": "code",
      "metadata": {
        "id": "IWbcKmaC_Eob",
        "colab_type": "code",
        "colab": {}
      },
      "source": [
        "# str_confirmed_date = pd.DataFrame(patient.str_confirmed_date)\n",
        "# str_confirmed_date"
      ],
      "execution_count": null,
      "outputs": []
    },
    {
      "cell_type": "code",
      "metadata": {
        "id": "-RAx-AOi_136",
        "colab_type": "code",
        "colab": {}
      },
      "source": [
        "# str_released_date = pd.DataFrame(patient.str_released_date)\n",
        "# str_released_date"
      ],
      "execution_count": null,
      "outputs": []
    },
    {
      "cell_type": "code",
      "metadata": {
        "id": "AL7iFXft9Nq1",
        "colab_type": "code",
        "colab": {}
      },
      "source": [
        "a = []\n",
        "for c, r in zip(patient.str_confirmed_date, patient.str_released_date):\n",
        "    a.append(interval_between_date(c, r))\n",
        "a = pd.DataFrame(a)\n",
        "a.columns = ['recovery_periods']"
      ],
      "execution_count": null,
      "outputs": []
    },
    {
      "cell_type": "code",
      "metadata": {
        "id": "HKgA0I8Rdz0n",
        "colab_type": "code",
        "colab": {}
      },
      "source": [
        "patient = patient.dropna()\n",
        "patient = patient.drop(['str_confirmed_date', 'str_released_date'], axis=1)"
      ],
      "execution_count": null,
      "outputs": []
    },
    {
      "cell_type": "markdown",
      "metadata": {
        "id": "nTYP6-w9oRp8",
        "colab_type": "text"
      },
      "source": [
        "recovery_periods를 표에 합쳐준다."
      ]
    },
    {
      "cell_type": "code",
      "metadata": {
        "id": "cfy59DR9KKcZ",
        "colab_type": "code",
        "colab": {
          "base_uri": "https://localhost:8080/",
          "height": 419
        },
        "outputId": "e625118e-34b5-4b2e-eb27-d036be38bd2b"
      },
      "source": [
        "patient['recovery_periods'] = a['recovery_periods']\n",
        "patient"
      ],
      "execution_count": null,
      "outputs": [
        {
          "output_type": "execute_result",
          "data": {
            "text/html": [
              "<div>\n",
              "<style scoped>\n",
              "    .dataframe tbody tr th:only-of-type {\n",
              "        vertical-align: middle;\n",
              "    }\n",
              "\n",
              "    .dataframe tbody tr th {\n",
              "        vertical-align: top;\n",
              "    }\n",
              "\n",
              "    .dataframe thead th {\n",
              "        text-align: right;\n",
              "    }\n",
              "</style>\n",
              "<table border=\"1\" class=\"dataframe\">\n",
              "  <thead>\n",
              "    <tr style=\"text-align: right;\">\n",
              "      <th></th>\n",
              "      <th>province</th>\n",
              "      <th>confirmed_date</th>\n",
              "      <th>released_date</th>\n",
              "      <th>recovery_periods</th>\n",
              "    </tr>\n",
              "  </thead>\n",
              "  <tbody>\n",
              "    <tr>\n",
              "      <th>0</th>\n",
              "      <td>Chungcheongbuk-do</td>\n",
              "      <td>2020-03-14</td>\n",
              "      <td>2020-04-02</td>\n",
              "      <td>19</td>\n",
              "    </tr>\n",
              "    <tr>\n",
              "      <th>1</th>\n",
              "      <td>Chungcheongbuk-do</td>\n",
              "      <td>2020-03-08</td>\n",
              "      <td>2020-03-21</td>\n",
              "      <td>13</td>\n",
              "    </tr>\n",
              "    <tr>\n",
              "      <th>2</th>\n",
              "      <td>Chungcheongbuk-do</td>\n",
              "      <td>2020-03-07</td>\n",
              "      <td>2020-03-26</td>\n",
              "      <td>19</td>\n",
              "    </tr>\n",
              "    <tr>\n",
              "      <th>3</th>\n",
              "      <td>Chungcheongbuk-do</td>\n",
              "      <td>2020-03-07</td>\n",
              "      <td>2020-03-26</td>\n",
              "      <td>19</td>\n",
              "    </tr>\n",
              "    <tr>\n",
              "      <th>4</th>\n",
              "      <td>Chungcheongbuk-do</td>\n",
              "      <td>2020-03-07</td>\n",
              "      <td>2020-03-30</td>\n",
              "      <td>23</td>\n",
              "    </tr>\n",
              "    <tr>\n",
              "      <th>...</th>\n",
              "      <td>...</td>\n",
              "      <td>...</td>\n",
              "      <td>...</td>\n",
              "      <td>...</td>\n",
              "    </tr>\n",
              "    <tr>\n",
              "      <th>1503</th>\n",
              "      <td>Ulsan</td>\n",
              "      <td>2020-04-11</td>\n",
              "      <td>2020-04-20</td>\n",
              "      <td>9</td>\n",
              "    </tr>\n",
              "    <tr>\n",
              "      <th>1504</th>\n",
              "      <td>Ulsan</td>\n",
              "      <td>2020-03-07</td>\n",
              "      <td>2020-04-03</td>\n",
              "      <td>27</td>\n",
              "    </tr>\n",
              "    <tr>\n",
              "      <th>1505</th>\n",
              "      <td>Ulsan</td>\n",
              "      <td>2020-03-10</td>\n",
              "      <td>2020-03-19</td>\n",
              "      <td>9</td>\n",
              "    </tr>\n",
              "    <tr>\n",
              "      <th>1506</th>\n",
              "      <td>Ulsan</td>\n",
              "      <td>2020-03-12</td>\n",
              "      <td>2020-03-31</td>\n",
              "      <td>19</td>\n",
              "    </tr>\n",
              "    <tr>\n",
              "      <th>1507</th>\n",
              "      <td>Ulsan</td>\n",
              "      <td>2020-02-25</td>\n",
              "      <td>2020-03-14</td>\n",
              "      <td>18</td>\n",
              "    </tr>\n",
              "  </tbody>\n",
              "</table>\n",
              "<p>1508 rows × 4 columns</p>\n",
              "</div>"
            ],
            "text/plain": [
              "               province confirmed_date released_date  recovery_periods\n",
              "0     Chungcheongbuk-do     2020-03-14    2020-04-02                19\n",
              "1     Chungcheongbuk-do     2020-03-08    2020-03-21                13\n",
              "2     Chungcheongbuk-do     2020-03-07    2020-03-26                19\n",
              "3     Chungcheongbuk-do     2020-03-07    2020-03-26                19\n",
              "4     Chungcheongbuk-do     2020-03-07    2020-03-30                23\n",
              "...                 ...            ...           ...               ...\n",
              "1503              Ulsan     2020-04-11    2020-04-20                 9\n",
              "1504              Ulsan     2020-03-07    2020-04-03                27\n",
              "1505              Ulsan     2020-03-10    2020-03-19                 9\n",
              "1506              Ulsan     2020-03-12    2020-03-31                19\n",
              "1507              Ulsan     2020-02-25    2020-03-14                18\n",
              "\n",
              "[1508 rows x 4 columns]"
            ]
          },
          "metadata": {
            "tags": []
          },
          "execution_count": 50
        }
      ]
    },
    {
      "cell_type": "markdown",
      "metadata": {
        "id": "PGaKTFi3oWn6",
        "colab_type": "text"
      },
      "source": [
        "지역을 기준으로 그룹화하고 각 지역의 회복기간의 평균을 계산한다.\n",
        "이를 시각화한다."
      ]
    },
    {
      "cell_type": "code",
      "metadata": {
        "id": "IJdl7MxherzG",
        "colab_type": "code",
        "colab": {
          "base_uri": "https://localhost:8080/",
          "height": 545
        },
        "outputId": "8d92be1f-5889-4707-f0de-43352cea56f9"
      },
      "source": [
        "recovery = patient.groupby(['province'])['recovery_periods'].mean()\n",
        "recovery = pd.DataFrame(recovery.apply(pd.to_numeric))\n",
        "recovery = recovery.sort_values(by = 'province', ascending=True)\n",
        "# recovery = recovery.drop(['100'])\n",
        "recovery.reset_index(inplace = True)\n",
        "recovery = recovery[['province', 'recovery_periods']]\n",
        "# recovery = recovery.drop(['province'], axis=1, inplace=True )\n",
        "\n",
        "\n",
        "recovery"
      ],
      "execution_count": null,
      "outputs": [
        {
          "output_type": "execute_result",
          "data": {
            "text/html": [
              "<div>\n",
              "<style scoped>\n",
              "    .dataframe tbody tr th:only-of-type {\n",
              "        vertical-align: middle;\n",
              "    }\n",
              "\n",
              "    .dataframe tbody tr th {\n",
              "        vertical-align: top;\n",
              "    }\n",
              "\n",
              "    .dataframe thead th {\n",
              "        text-align: right;\n",
              "    }\n",
              "</style>\n",
              "<table border=\"1\" class=\"dataframe\">\n",
              "  <thead>\n",
              "    <tr style=\"text-align: right;\">\n",
              "      <th></th>\n",
              "      <th>province</th>\n",
              "      <th>recovery_periods</th>\n",
              "    </tr>\n",
              "  </thead>\n",
              "  <tbody>\n",
              "    <tr>\n",
              "      <th>0</th>\n",
              "      <td>Chungcheongbuk-do</td>\n",
              "      <td>21.26</td>\n",
              "    </tr>\n",
              "    <tr>\n",
              "      <th>1</th>\n",
              "      <td>Chungcheongnam-do</td>\n",
              "      <td>24.05</td>\n",
              "    </tr>\n",
              "    <tr>\n",
              "      <th>2</th>\n",
              "      <td>Daegu</td>\n",
              "      <td>9.00</td>\n",
              "    </tr>\n",
              "    <tr>\n",
              "      <th>3</th>\n",
              "      <td>Daejeon</td>\n",
              "      <td>23.74</td>\n",
              "    </tr>\n",
              "    <tr>\n",
              "      <th>4</th>\n",
              "      <td>Gangwon-do</td>\n",
              "      <td>19.89</td>\n",
              "    </tr>\n",
              "    <tr>\n",
              "      <th>5</th>\n",
              "      <td>Gwangju</td>\n",
              "      <td>20.54</td>\n",
              "    </tr>\n",
              "    <tr>\n",
              "      <th>6</th>\n",
              "      <td>Gyeonggi-do</td>\n",
              "      <td>16.66</td>\n",
              "    </tr>\n",
              "    <tr>\n",
              "      <th>7</th>\n",
              "      <td>Gyeongsangbuk-do</td>\n",
              "      <td>26.07</td>\n",
              "    </tr>\n",
              "    <tr>\n",
              "      <th>8</th>\n",
              "      <td>Gyeongsangnam-do</td>\n",
              "      <td>23.52</td>\n",
              "    </tr>\n",
              "    <tr>\n",
              "      <th>9</th>\n",
              "      <td>Incheon</td>\n",
              "      <td>23.41</td>\n",
              "    </tr>\n",
              "    <tr>\n",
              "      <th>10</th>\n",
              "      <td>Jeju-do</td>\n",
              "      <td>23.33</td>\n",
              "    </tr>\n",
              "    <tr>\n",
              "      <th>11</th>\n",
              "      <td>Jeollabuk-do</td>\n",
              "      <td>13.75</td>\n",
              "    </tr>\n",
              "    <tr>\n",
              "      <th>12</th>\n",
              "      <td>Jeollanam-do</td>\n",
              "      <td>26.12</td>\n",
              "    </tr>\n",
              "    <tr>\n",
              "      <th>13</th>\n",
              "      <td>Sejong</td>\n",
              "      <td>28.43</td>\n",
              "    </tr>\n",
              "    <tr>\n",
              "      <th>14</th>\n",
              "      <td>Seoul</td>\n",
              "      <td>15.22</td>\n",
              "    </tr>\n",
              "    <tr>\n",
              "      <th>15</th>\n",
              "      <td>Ulsan</td>\n",
              "      <td>21.51</td>\n",
              "    </tr>\n",
              "  </tbody>\n",
              "</table>\n",
              "</div>"
            ],
            "text/plain": [
              "             province  recovery_periods\n",
              "0   Chungcheongbuk-do             21.26\n",
              "1   Chungcheongnam-do             24.05\n",
              "2               Daegu              9.00\n",
              "3             Daejeon             23.74\n",
              "4          Gangwon-do             19.89\n",
              "5             Gwangju             20.54\n",
              "6         Gyeonggi-do             16.66\n",
              "7    Gyeongsangbuk-do             26.07\n",
              "8    Gyeongsangnam-do             23.52\n",
              "9             Incheon             23.41\n",
              "10            Jeju-do             23.33\n",
              "11       Jeollabuk-do             13.75\n",
              "12       Jeollanam-do             26.12\n",
              "13             Sejong             28.43\n",
              "14              Seoul             15.22\n",
              "15              Ulsan             21.51"
            ]
          },
          "metadata": {
            "tags": []
          },
          "execution_count": 51
        }
      ]
    },
    {
      "cell_type": "code",
      "metadata": {
        "id": "Kb_2ccTiuySc",
        "colab_type": "code",
        "colab": {
          "base_uri": "https://localhost:8080/",
          "height": 393
        },
        "outputId": "61acb278-5bd0-429e-e842-f87b18174446"
      },
      "source": [
        "recovery = recovery.sort_values('recovery_periods', ascending = False)\n",
        "recovery.plot.bar(x = 'province', y = 'recovery_periods', color='green', alpha=0.4)\n",
        "plt.title('recovery_periods by city group')\n",
        "\n",
        "plt.ylim(5, 35)  # y축의 최솟값과 최댓값 지정\n",
        "plt.ylabel('recovery_periods')\n",
        "plt.legend()\n",
        "plt.show()"
      ],
      "execution_count": null,
      "outputs": [
        {
          "output_type": "display_data",
          "data": {
            "image/png": "[encoded data removed]",
            "text/plain": [
              "<Figure size 432x288 with 1 Axes>"
            ]
          },
          "metadata": {
            "tags": []
          }
        }
      ]
    },
    {
      "cell_type": "markdown",
      "metadata": {
        "id": "HqsTPumVawRF",
        "colab_type": "text"
      },
      "source": [
        "## 지역 별 회복 기간 시각화 -지도편\n",
        "- folium"
      ]
    },
    {
      "cell_type": "code",
      "metadata": {
        "id": "sz81c6YAYW3o",
        "colab_type": "code",
        "colab": {}
      },
      "source": [
        "import folium"
      ],
      "execution_count": null,
      "outputs": []
    },
    {
      "cell_type": "markdown",
      "metadata": {
        "id": "JHVi0bcPMnfr",
        "colab_type": "text"
      },
      "source": [
        "json을 불러와, 서울시 구별 데이터 뿌려주기"
      ]
    },
    {
      "cell_type": "code",
      "metadata": {
        "id": "IfIVIaPQMm6q",
        "colab_type": "code",
        "colab": {}
      },
      "source": [
        "import json"
      ],
      "execution_count": null,
      "outputs": []
    },
    {
      "cell_type": "markdown",
      "metadata": {
        "id": "zQNjmr15UMH0",
        "colab_type": "text"
      },
      "source": [
        "### 회복률 지도"
      ]
    },
    {
      "cell_type": "code",
      "metadata": {
        "id": "8ojxeDBsYfaq",
        "colab_type": "code",
        "colab": {
          "base_uri": "https://localhost:8080/",
          "height": 545
        },
        "outputId": "e8ea6450-149e-4936-af32-68243a24e61f"
      },
      "source": [
        "recovery = patient.groupby(['province'])['recovery_periods'].mean()\n",
        "recovery = pd.DataFrame(recovery.apply(pd.to_numeric))\n",
        "recovery = recovery.sort_values(by = 'province', ascending=True)\n",
        "# recovery = recovery.drop(['100'])\n",
        "recovery.reset_index(inplace = True)\n",
        "recovery = recovery[['province', 'recovery_periods']]\n",
        "# recovery = recovery.drop(['city'], axis=1, inplace=True )\n",
        "\n",
        "\n",
        "recovery"
      ],
      "execution_count": null,
      "outputs": [
        {
          "output_type": "execute_result",
          "data": {
            "text/html": [
              "<div>\n",
              "<style scoped>\n",
              "    .dataframe tbody tr th:only-of-type {\n",
              "        vertical-align: middle;\n",
              "    }\n",
              "\n",
              "    .dataframe tbody tr th {\n",
              "        vertical-align: top;\n",
              "    }\n",
              "\n",
              "    .dataframe thead th {\n",
              "        text-align: right;\n",
              "    }\n",
              "</style>\n",
              "<table border=\"1\" class=\"dataframe\">\n",
              "  <thead>\n",
              "    <tr style=\"text-align: right;\">\n",
              "      <th></th>\n",
              "      <th>province</th>\n",
              "      <th>recovery_periods</th>\n",
              "    </tr>\n",
              "  </thead>\n",
              "  <tbody>\n",
              "    <tr>\n",
              "      <th>0</th>\n",
              "      <td>Chungcheongbuk-do</td>\n",
              "      <td>21.26</td>\n",
              "    </tr>\n",
              "    <tr>\n",
              "      <th>1</th>\n",
              "      <td>Chungcheongnam-do</td>\n",
              "      <td>24.05</td>\n",
              "    </tr>\n",
              "    <tr>\n",
              "      <th>2</th>\n",
              "      <td>Daegu</td>\n",
              "      <td>9.00</td>\n",
              "    </tr>\n",
              "    <tr>\n",
              "      <th>3</th>\n",
              "      <td>Daejeon</td>\n",
              "      <td>23.74</td>\n",
              "    </tr>\n",
              "    <tr>\n",
              "      <th>4</th>\n",
              "      <td>Gangwon-do</td>\n",
              "      <td>19.89</td>\n",
              "    </tr>\n",
              "    <tr>\n",
              "      <th>5</th>\n",
              "      <td>Gwangju</td>\n",
              "      <td>20.54</td>\n",
              "    </tr>\n",
              "    <tr>\n",
              "      <th>6</th>\n",
              "      <td>Gyeonggi-do</td>\n",
              "      <td>16.66</td>\n",
              "    </tr>\n",
              "    <tr>\n",
              "      <th>7</th>\n",
              "      <td>Gyeongsangbuk-do</td>\n",
              "      <td>26.07</td>\n",
              "    </tr>\n",
              "    <tr>\n",
              "      <th>8</th>\n",
              "      <td>Gyeongsangnam-do</td>\n",
              "      <td>23.52</td>\n",
              "    </tr>\n",
              "    <tr>\n",
              "      <th>9</th>\n",
              "      <td>Incheon</td>\n",
              "      <td>23.41</td>\n",
              "    </tr>\n",
              "    <tr>\n",
              "      <th>10</th>\n",
              "      <td>Jeju-do</td>\n",
              "      <td>23.33</td>\n",
              "    </tr>\n",
              "    <tr>\n",
              "      <th>11</th>\n",
              "      <td>Jeollabuk-do</td>\n",
              "      <td>13.75</td>\n",
              "    </tr>\n",
              "    <tr>\n",
              "      <th>12</th>\n",
              "      <td>Jeollanam-do</td>\n",
              "      <td>26.12</td>\n",
              "    </tr>\n",
              "    <tr>\n",
              "      <th>13</th>\n",
              "      <td>Sejong</td>\n",
              "      <td>28.43</td>\n",
              "    </tr>\n",
              "    <tr>\n",
              "      <th>14</th>\n",
              "      <td>Seoul</td>\n",
              "      <td>15.22</td>\n",
              "    </tr>\n",
              "    <tr>\n",
              "      <th>15</th>\n",
              "      <td>Ulsan</td>\n",
              "      <td>21.51</td>\n",
              "    </tr>\n",
              "  </tbody>\n",
              "</table>\n",
              "</div>"
            ],
            "text/plain": [
              "             province  recovery_periods\n",
              "0   Chungcheongbuk-do             21.26\n",
              "1   Chungcheongnam-do             24.05\n",
              "2               Daegu              9.00\n",
              "3             Daejeon             23.74\n",
              "4          Gangwon-do             19.89\n",
              "5             Gwangju             20.54\n",
              "6         Gyeonggi-do             16.66\n",
              "7    Gyeongsangbuk-do             26.07\n",
              "8    Gyeongsangnam-do             23.52\n",
              "9             Incheon             23.41\n",
              "10            Jeju-do             23.33\n",
              "11       Jeollabuk-do             13.75\n",
              "12       Jeollanam-do             26.12\n",
              "13             Sejong             28.43\n",
              "14              Seoul             15.22\n",
              "15              Ulsan             21.51"
            ]
          },
          "metadata": {
            "tags": []
          },
          "execution_count": 55
        }
      ]
    },
    {
      "cell_type": "code",
      "metadata": {
        "id": "PXCysmuYSBjx",
        "colab_type": "code",
        "colab": {}
      },
      "source": [
        "with open('/content/skorea_provinces_geo.json', 'r',encoding='utf-8') as f:\n",
        "    data = json.load(f)\n",
        "\n",
        "map1 = folium.Map(location=[37.565,126.986],zoom_start=11,tiles='OpenStreetMap')\n",
        "map1.choropleth(geo_data = data, data=recovery,\n",
        "               columns=['province','recovery_periods'],\n",
        "               key_on='feature.properties.name_eng',\n",
        "               fill_color='PuRd',\n",
        "               legend_name = 'recovery_periods')\n",
        "map1"
      ],
      "execution_count": null,
      "outputs": []
    },
    {
      "cell_type": "markdown",
      "metadata": {
        "id": "r9wVuhPtKUEF",
        "colab_type": "text"
      },
      "source": [
        "### 구별 확진자 수"
      ]
    },
    {
      "cell_type": "code",
      "metadata": {
        "id": "I1Kx2tXSCMRJ",
        "colab_type": "code",
        "colab": {
          "base_uri": "https://localhost:8080/",
          "height": 419
        },
        "outputId": "58b5d242-addc-447b-8dfa-4c2a7ca05b4b"
      },
      "source": [
        "province_confirmed_number = PatientInfo[['province', 'patient_id']]\n",
        "province_confirmed_number"
      ],
      "execution_count": null,
      "outputs": [
        {
          "output_type": "execute_result",
          "data": {
            "text/html": [
              "<div>\n",
              "<style scoped>\n",
              "    .dataframe tbody tr th:only-of-type {\n",
              "        vertical-align: middle;\n",
              "    }\n",
              "\n",
              "    .dataframe tbody tr th {\n",
              "        vertical-align: top;\n",
              "    }\n",
              "\n",
              "    .dataframe thead th {\n",
              "        text-align: right;\n",
              "    }\n",
              "</style>\n",
              "<table border=\"1\" class=\"dataframe\">\n",
              "  <thead>\n",
              "    <tr style=\"text-align: right;\">\n",
              "      <th></th>\n",
              "      <th>province</th>\n",
              "      <th>patient_id</th>\n",
              "    </tr>\n",
              "  </thead>\n",
              "  <tbody>\n",
              "    <tr>\n",
              "      <th>0</th>\n",
              "      <td>Seoul</td>\n",
              "      <td>1000000001</td>\n",
              "    </tr>\n",
              "    <tr>\n",
              "      <th>1</th>\n",
              "      <td>Seoul</td>\n",
              "      <td>1000000002</td>\n",
              "    </tr>\n",
              "    <tr>\n",
              "      <th>2</th>\n",
              "      <td>Seoul</td>\n",
              "      <td>1000000003</td>\n",
              "    </tr>\n",
              "    <tr>\n",
              "      <th>3</th>\n",
              "      <td>Seoul</td>\n",
              "      <td>1000000004</td>\n",
              "    </tr>\n",
              "    <tr>\n",
              "      <th>4</th>\n",
              "      <td>Seoul</td>\n",
              "      <td>1000000005</td>\n",
              "    </tr>\n",
              "    <tr>\n",
              "      <th>...</th>\n",
              "      <td>...</td>\n",
              "      <td>...</td>\n",
              "    </tr>\n",
              "    <tr>\n",
              "      <th>3999</th>\n",
              "      <td>Jeju-do</td>\n",
              "      <td>7000000010</td>\n",
              "    </tr>\n",
              "    <tr>\n",
              "      <th>4000</th>\n",
              "      <td>Jeju-do</td>\n",
              "      <td>7000000011</td>\n",
              "    </tr>\n",
              "    <tr>\n",
              "      <th>4001</th>\n",
              "      <td>Jeju-do</td>\n",
              "      <td>7000000012</td>\n",
              "    </tr>\n",
              "    <tr>\n",
              "      <th>4002</th>\n",
              "      <td>Jeju-do</td>\n",
              "      <td>7000000013</td>\n",
              "    </tr>\n",
              "    <tr>\n",
              "      <th>4003</th>\n",
              "      <td>Jeju-do</td>\n",
              "      <td>7000000014</td>\n",
              "    </tr>\n",
              "  </tbody>\n",
              "</table>\n",
              "<p>4004 rows × 2 columns</p>\n",
              "</div>"
            ],
            "text/plain": [
              "     province  patient_id\n",
              "0       Seoul  1000000001\n",
              "1       Seoul  1000000002\n",
              "2       Seoul  1000000003\n",
              "3       Seoul  1000000004\n",
              "4       Seoul  1000000005\n",
              "...       ...         ...\n",
              "3999  Jeju-do  7000000010\n",
              "4000  Jeju-do  7000000011\n",
              "4001  Jeju-do  7000000012\n",
              "4002  Jeju-do  7000000013\n",
              "4003  Jeju-do  7000000014\n",
              "\n",
              "[4004 rows x 2 columns]"
            ]
          },
          "metadata": {
            "tags": []
          },
          "execution_count": 57
        }
      ]
    },
    {
      "cell_type": "code",
      "metadata": {
        "id": "yqeDaymiHqR2",
        "colab_type": "code",
        "colab": {
          "base_uri": "https://localhost:8080/",
          "height": 419
        },
        "outputId": "6d5580c5-11d0-45ad-b067-08b2f2f1d1c2"
      },
      "source": [
        "province_confirmed_number = province_confirmed_number.dropna()\n",
        "province_confirmed_number = province_confirmed_number.drop(province_confirmed_number[province_confirmed_number.province=='etc'].index)\n",
        "province_confirmed_number = province_confirmed_number.reset_index(drop =True)\n",
        "province_confirmed_number"
      ],
      "execution_count": null,
      "outputs": [
        {
          "output_type": "execute_result",
          "data": {
            "text/html": [
              "<div>\n",
              "<style scoped>\n",
              "    .dataframe tbody tr th:only-of-type {\n",
              "        vertical-align: middle;\n",
              "    }\n",
              "\n",
              "    .dataframe tbody tr th {\n",
              "        vertical-align: top;\n",
              "    }\n",
              "\n",
              "    .dataframe thead th {\n",
              "        text-align: right;\n",
              "    }\n",
              "</style>\n",
              "<table border=\"1\" class=\"dataframe\">\n",
              "  <thead>\n",
              "    <tr style=\"text-align: right;\">\n",
              "      <th></th>\n",
              "      <th>province</th>\n",
              "      <th>patient_id</th>\n",
              "    </tr>\n",
              "  </thead>\n",
              "  <tbody>\n",
              "    <tr>\n",
              "      <th>0</th>\n",
              "      <td>Seoul</td>\n",
              "      <td>1000000001</td>\n",
              "    </tr>\n",
              "    <tr>\n",
              "      <th>1</th>\n",
              "      <td>Seoul</td>\n",
              "      <td>1000000002</td>\n",
              "    </tr>\n",
              "    <tr>\n",
              "      <th>2</th>\n",
              "      <td>Seoul</td>\n",
              "      <td>1000000003</td>\n",
              "    </tr>\n",
              "    <tr>\n",
              "      <th>3</th>\n",
              "      <td>Seoul</td>\n",
              "      <td>1000000004</td>\n",
              "    </tr>\n",
              "    <tr>\n",
              "      <th>4</th>\n",
              "      <td>Seoul</td>\n",
              "      <td>1000000005</td>\n",
              "    </tr>\n",
              "    <tr>\n",
              "      <th>...</th>\n",
              "      <td>...</td>\n",
              "      <td>...</td>\n",
              "    </tr>\n",
              "    <tr>\n",
              "      <th>3999</th>\n",
              "      <td>Jeju-do</td>\n",
              "      <td>7000000010</td>\n",
              "    </tr>\n",
              "    <tr>\n",
              "      <th>4000</th>\n",
              "      <td>Jeju-do</td>\n",
              "      <td>7000000011</td>\n",
              "    </tr>\n",
              "    <tr>\n",
              "      <th>4001</th>\n",
              "      <td>Jeju-do</td>\n",
              "      <td>7000000012</td>\n",
              "    </tr>\n",
              "    <tr>\n",
              "      <th>4002</th>\n",
              "      <td>Jeju-do</td>\n",
              "      <td>7000000013</td>\n",
              "    </tr>\n",
              "    <tr>\n",
              "      <th>4003</th>\n",
              "      <td>Jeju-do</td>\n",
              "      <td>7000000014</td>\n",
              "    </tr>\n",
              "  </tbody>\n",
              "</table>\n",
              "<p>4004 rows × 2 columns</p>\n",
              "</div>"
            ],
            "text/plain": [
              "     province  patient_id\n",
              "0       Seoul  1000000001\n",
              "1       Seoul  1000000002\n",
              "2       Seoul  1000000003\n",
              "3       Seoul  1000000004\n",
              "4       Seoul  1000000005\n",
              "...       ...         ...\n",
              "3999  Jeju-do  7000000010\n",
              "4000  Jeju-do  7000000011\n",
              "4001  Jeju-do  7000000012\n",
              "4002  Jeju-do  7000000013\n",
              "4003  Jeju-do  7000000014\n",
              "\n",
              "[4004 rows x 2 columns]"
            ]
          },
          "metadata": {
            "tags": []
          },
          "execution_count": 58
        }
      ]
    },
    {
      "cell_type": "code",
      "metadata": {
        "id": "OAvUER5vDIPn",
        "colab_type": "code",
        "colab": {
          "base_uri": "https://localhost:8080/",
          "height": 576
        },
        "outputId": "68a4f124-26b9-46a4-ba05-6605fbda3f02"
      },
      "source": [
        "c = pd.DataFrame(province_confirmed_number.groupby(['province'])['patient_id'].count())\n",
        "c = c.rename(columns = {'patient_id' : 'count'})\n",
        "c.reset_index(inplace = True)\n",
        "c = c[['province', 'count']]\n",
        "c"
      ],
      "execution_count": null,
      "outputs": [
        {
          "output_type": "execute_result",
          "data": {
            "text/html": [
              "<div>\n",
              "<style scoped>\n",
              "    .dataframe tbody tr th:only-of-type {\n",
              "        vertical-align: middle;\n",
              "    }\n",
              "\n",
              "    .dataframe tbody tr th {\n",
              "        vertical-align: top;\n",
              "    }\n",
              "\n",
              "    .dataframe thead th {\n",
              "        text-align: right;\n",
              "    }\n",
              "</style>\n",
              "<table border=\"1\" class=\"dataframe\">\n",
              "  <thead>\n",
              "    <tr style=\"text-align: right;\">\n",
              "      <th></th>\n",
              "      <th>province</th>\n",
              "      <th>count</th>\n",
              "    </tr>\n",
              "  </thead>\n",
              "  <tbody>\n",
              "    <tr>\n",
              "      <th>0</th>\n",
              "      <td>Busan</td>\n",
              "      <td>144</td>\n",
              "    </tr>\n",
              "    <tr>\n",
              "      <th>1</th>\n",
              "      <td>Chungcheongbuk-do</td>\n",
              "      <td>52</td>\n",
              "    </tr>\n",
              "    <tr>\n",
              "      <th>2</th>\n",
              "      <td>Chungcheongnam-do</td>\n",
              "      <td>146</td>\n",
              "    </tr>\n",
              "    <tr>\n",
              "      <th>3</th>\n",
              "      <td>Daegu</td>\n",
              "      <td>63</td>\n",
              "    </tr>\n",
              "    <tr>\n",
              "      <th>4</th>\n",
              "      <td>Daejeon</td>\n",
              "      <td>46</td>\n",
              "    </tr>\n",
              "    <tr>\n",
              "      <th>5</th>\n",
              "      <td>Gangwon-do</td>\n",
              "      <td>55</td>\n",
              "    </tr>\n",
              "    <tr>\n",
              "      <th>6</th>\n",
              "      <td>Gwangju</td>\n",
              "      <td>30</td>\n",
              "    </tr>\n",
              "    <tr>\n",
              "      <th>7</th>\n",
              "      <td>Gyeonggi-do</td>\n",
              "      <td>853</td>\n",
              "    </tr>\n",
              "    <tr>\n",
              "      <th>8</th>\n",
              "      <td>Gyeongsangbuk-do</td>\n",
              "      <td>1245</td>\n",
              "    </tr>\n",
              "    <tr>\n",
              "      <th>9</th>\n",
              "      <td>Gyeongsangnam-do</td>\n",
              "      <td>122</td>\n",
              "    </tr>\n",
              "    <tr>\n",
              "      <th>10</th>\n",
              "      <td>Incheon</td>\n",
              "      <td>232</td>\n",
              "    </tr>\n",
              "    <tr>\n",
              "      <th>11</th>\n",
              "      <td>Jeju-do</td>\n",
              "      <td>14</td>\n",
              "    </tr>\n",
              "    <tr>\n",
              "      <th>12</th>\n",
              "      <td>Jeollabuk-do</td>\n",
              "      <td>21</td>\n",
              "    </tr>\n",
              "    <tr>\n",
              "      <th>13</th>\n",
              "      <td>Jeollanam-do</td>\n",
              "      <td>19</td>\n",
              "    </tr>\n",
              "    <tr>\n",
              "      <th>14</th>\n",
              "      <td>Sejong</td>\n",
              "      <td>47</td>\n",
              "    </tr>\n",
              "    <tr>\n",
              "      <th>15</th>\n",
              "      <td>Seoul</td>\n",
              "      <td>863</td>\n",
              "    </tr>\n",
              "    <tr>\n",
              "      <th>16</th>\n",
              "      <td>Ulsan</td>\n",
              "      <td>52</td>\n",
              "    </tr>\n",
              "  </tbody>\n",
              "</table>\n",
              "</div>"
            ],
            "text/plain": [
              "             province  count\n",
              "0               Busan    144\n",
              "1   Chungcheongbuk-do     52\n",
              "2   Chungcheongnam-do    146\n",
              "3               Daegu     63\n",
              "4             Daejeon     46\n",
              "5          Gangwon-do     55\n",
              "6             Gwangju     30\n",
              "7         Gyeonggi-do    853\n",
              "8    Gyeongsangbuk-do   1245\n",
              "9    Gyeongsangnam-do    122\n",
              "10            Incheon    232\n",
              "11            Jeju-do     14\n",
              "12       Jeollabuk-do     21\n",
              "13       Jeollanam-do     19\n",
              "14             Sejong     47\n",
              "15              Seoul    863\n",
              "16              Ulsan     52"
            ]
          },
          "metadata": {
            "tags": []
          },
          "execution_count": 60
        }
      ]
    },
    {
      "cell_type": "code",
      "metadata": {
        "id": "KxywBK07rKtb",
        "colab_type": "code",
        "colab": {}
      },
      "source": [
        "with open('/content/skorea_provinces_geo.json', 'r',encoding='utf-8') as f:\n",
        "    data = json.load(f)\n",
        "\n",
        "map1 = folium.Map(location=[37.565,126.986],zoom_start=11,tiles='OpenStreetMap')\n",
        "map1.choropleth(geo_data = data, data=c,\n",
        "               columns=['province','count'],\n",
        "               key_on='feature.properties.name_eng',\n",
        "               fill_color='PuRd',\n",
        "               legend_name = 'count')\n",
        "map1"
      ],
      "execution_count": null,
      "outputs": []
    },
    {
      "cell_type": "markdown",
      "metadata": {
        "id": "EHNut4YMwsQZ",
        "colab_type": "text"
      },
      "source": [
        "### 서울 지역별 연령 분포"
      ]
    },
    {
      "cell_type": "code",
      "metadata": {
        "id": "z9zT_akUwpw2",
        "colab_type": "code",
        "colab": {}
      },
      "source": [
        "avgAge = avgAge.loc[2:27]"
      ],
      "execution_count": null,
      "outputs": []
    },
    {
      "cell_type": "code",
      "metadata": {
        "id": "GAY6ZzlFwrph",
        "colab_type": "code",
        "colab": {
          "base_uri": "https://localhost:8080/",
          "height": 297
        },
        "outputId": "ce10e724-b301-4204-e2c8-2b02deb32775"
      },
      "source": [
        "avgAge['province'] = avgAge['province'].str.replace('서울특별시 ','').replace(' ')\n",
        "avgAge['province'] = avgAge['province'].str.split(\" \")\n",
        "avgAge['province'] = avgAge['province'].str[0]\n",
        "avgAge = avgAge.reset_index(drop = 'index')\n",
        "avgAge"
      ],
      "execution_count": null,
      "outputs": [
        {
          "output_type": "execute_result",
          "data": {
            "text/html": [
              "<div>\n",
              "<style scoped>\n",
              "    .dataframe tbody tr th:only-of-type {\n",
              "        vertical-align: middle;\n",
              "    }\n",
              "\n",
              "    .dataframe tbody tr th {\n",
              "        vertical-align: top;\n",
              "    }\n",
              "\n",
              "    .dataframe thead th {\n",
              "        text-align: right;\n",
              "    }\n",
              "</style>\n",
              "<table border=\"1\" class=\"dataframe\">\n",
              "  <thead>\n",
              "    <tr style=\"text-align: right;\">\n",
              "      <th></th>\n",
              "      <th>province</th>\n",
              "      <th>avgAge</th>\n",
              "    </tr>\n",
              "  </thead>\n",
              "  <tbody>\n",
              "    <tr>\n",
              "      <th>0</th>\n",
              "      <td>강원도</td>\n",
              "      <td>1,540,689</td>\n",
              "    </tr>\n",
              "    <tr>\n",
              "      <th>1</th>\n",
              "      <td>충청북도</td>\n",
              "      <td>1,598,162</td>\n",
              "    </tr>\n",
              "    <tr>\n",
              "      <th>2</th>\n",
              "      <td>충청남도</td>\n",
              "      <td>2,120,519</td>\n",
              "    </tr>\n",
              "    <tr>\n",
              "      <th>3</th>\n",
              "      <td>전라북도</td>\n",
              "      <td>1,807,094</td>\n",
              "    </tr>\n",
              "    <tr>\n",
              "      <th>4</th>\n",
              "      <td>전라남도</td>\n",
              "      <td>1,851,985</td>\n",
              "    </tr>\n",
              "    <tr>\n",
              "      <th>5</th>\n",
              "      <td>경상북도</td>\n",
              "      <td>2,640,932</td>\n",
              "    </tr>\n",
              "    <tr>\n",
              "      <th>6</th>\n",
              "      <td>경상남도</td>\n",
              "      <td>3,345,169</td>\n",
              "    </tr>\n",
              "    <tr>\n",
              "      <th>7</th>\n",
              "      <td>제주특별자치도</td>\n",
              "      <td>672,524</td>\n",
              "    </tr>\n",
              "  </tbody>\n",
              "</table>\n",
              "</div>"
            ],
            "text/plain": [
              "  province     avgAge\n",
              "0      강원도  1,540,689\n",
              "1     충청북도  1,598,162\n",
              "2     충청남도  2,120,519\n",
              "3     전라북도  1,807,094\n",
              "4     전라남도  1,851,985\n",
              "5     경상북도  2,640,932\n",
              "6     경상남도  3,345,169\n",
              "7  제주특별자치도    672,524"
            ]
          },
          "metadata": {
            "tags": []
          },
          "execution_count": 37
        }
      ]
    },
    {
      "cell_type": "code",
      "metadata": {
        "id": "kw7BW1uyw8x8",
        "colab_type": "code",
        "colab": {}
      },
      "source": [
        "with open('/content/skorea_provinces_geo.json', 'r',encoding='utf-8') as f:\n",
        "    data = json.load(f)\n",
        "\n",
        "map1 = folium.Map(location=[37.565,126.986],zoom_start=11,tiles='OpenStreetMap')\n",
        "map1.choropleth(geo_data = data, data=avgAge,\n",
        "               columns=['province','avgAge'],\n",
        "               key_on='feature.properties.name',\n",
        "               fill_color='PuRd',\n",
        "               legend_name = 'avgAge')\n",
        "map1"
      ],
      "execution_count": null,
      "outputs": []
    },
    {
      "cell_type": "markdown",
      "metadata": {
        "id": "x1NKOzhrXAlu",
        "colab_type": "text"
      },
      "source": [
        "## t-검정"
      ]
    },
    {
      "cell_type": "code",
      "metadata": {
        "id": "CtP5XAW1XDz9",
        "colab_type": "code",
        "colab": {}
      },
      "source": [
        "import numpy as np\n",
        "from scipy import stats"
      ],
      "execution_count": null,
      "outputs": []
    },
    {
      "cell_type": "code",
      "metadata": {
        "id": "UEDpuiyuXIuB",
        "colab_type": "code",
        "colab": {}
      },
      "source": [
        "# t-검정 계산\n",
        "t, p = stats.ttest_ind(province, recovery_periods)\n",
        "print(\"t = \" + str(t))\n",
        "print(\"p = \" + str(p))"
      ],
      "execution_count": null,
      "outputs": []
    },
    {
      "cell_type": "code",
      "metadata": {
        "id": "5tIBamyuXMyc",
        "colab_type": "code",
        "colab": {}
      },
      "source": [
        "recovery = recovery[['province', 'recovery_periods']]\n",
        "df_joined = recovery.merge(avgAge)\n",
        "recovery"
      ],
      "execution_count": null,
      "outputs": []
    }
  ]
}